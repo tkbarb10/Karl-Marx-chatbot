{
 "cells": [
  {
   "cell_type": "code",
   "execution_count": 1,
   "id": "5f321074-536f-4d95-b9f0-94f4f73cf8f6",
   "metadata": {},
   "outputs": [],
   "source": [
    "import google.generativeai as genai\n",
    "import chromadb\n",
    "import os\n",
    "import re"
   ]
  },
  {
   "cell_type": "code",
   "execution_count": 2,
   "id": "eef190ad-1213-49bb-a02a-6cfa3e9f537c",
   "metadata": {},
   "outputs": [],
   "source": [
    "google_api_key = os.getenv(\"GOOGLE_API_KEY\")\n",
    "genai.configure(api_key = google_api_key)"
   ]
  },
  {
   "cell_type": "code",
   "execution_count": 32,
   "id": "2191f914-5311-4bf4-9fa1-24b0a95e104f",
   "metadata": {},
   "outputs": [],
   "source": [
    "#Initializing client to create a collection to embed and build the vector database\n",
    "\n",
    "client = chromadb.Client()\n",
    "\n",
    "collection = client.get_or_create_collection(name = 'Ramin_v_Marx')"
   ]
  },
  {
   "cell_type": "code",
   "execution_count": 4,
   "id": "86f5b3b9-7bab-44f3-8ebf-58630aecf72d",
   "metadata": {},
   "outputs": [
    {
     "name": "stdout",
     "output_type": "stream",
     "text": [
      "models/embedding-001\n",
      "models/text-embedding-004\n"
     ]
    }
   ],
   "source": [
    "#Determine best model to use for embeddings\n",
    "\n",
    "list_o_models = genai.list_models()\n",
    "\n",
    "for m in list_o_models:\n",
    "    if 'embedContent' in m.supported_generation_methods:\n",
    "        print(m.name)"
   ]
  },
  {
   "cell_type": "code",
   "execution_count": 23,
   "id": "c860b6d7-2e92-4e7c-8191-08eac7f94327",
   "metadata": {},
   "outputs": [
    {
     "data": {
      "text/plain": [
       "Model(name='models/text-embedding-004',\n",
       "      base_model_id='',\n",
       "      version='004',\n",
       "      display_name='Text Embedding 004',\n",
       "      description='Obtain a distributed representation of a text.',\n",
       "      input_token_limit=2048,\n",
       "      output_token_limit=1,\n",
       "      supported_generation_methods=['embedContent'],\n",
       "      temperature=None,\n",
       "      max_temperature=None,\n",
       "      top_p=None,\n",
       "      top_k=None)"
      ]
     },
     "execution_count": 23,
     "metadata": {},
     "output_type": "execute_result"
    }
   ],
   "source": [
    "genai.get_model('models/text-embedding-004')"
   ]
  },
  {
   "cell_type": "code",
   "execution_count": 24,
   "id": "5d26db65-3d20-429c-ac2d-071f641af1a0",
   "metadata": {},
   "outputs": [
    {
     "data": {
      "text/plain": [
       "Model(name='models/embedding-001',\n",
       "      base_model_id='',\n",
       "      version='001',\n",
       "      display_name='Embedding 001',\n",
       "      description='Obtain a distributed representation of a text.',\n",
       "      input_token_limit=2048,\n",
       "      output_token_limit=1,\n",
       "      supported_generation_methods=['embedContent'],\n",
       "      temperature=None,\n",
       "      max_temperature=None,\n",
       "      top_p=None,\n",
       "      top_k=None)"
      ]
     },
     "execution_count": 24,
     "metadata": {},
     "output_type": "execute_result"
    }
   ],
   "source": [
    "genai.get_model('models/embedding-001')"
   ]
  },
  {
   "cell_type": "code",
   "execution_count": null,
   "id": "997d4c4b-32d1-4e89-b33d-546d3a4a67e2",
   "metadata": {},
   "outputs": [],
   "source": [
    "# Both the same but documentation recommends text-embedding-004 for new projects"
   ]
  },
  {
   "cell_type": "markdown",
   "id": "feefedbc-5a18-439a-a972-ab89031d7ff8",
   "metadata": {},
   "source": [
    "# Load content and preprocess"
   ]
  },
  {
   "cell_type": "code",
   "execution_count": 5,
   "id": "4c47c583-210f-46af-88f4-cd74afb5cb5c",
   "metadata": {},
   "outputs": [],
   "source": [
    "with open(\"C:/Users/Taylor/OneDrive/Desktop/LLM docs/Overall Philosophy.txt\", \"r\", encoding = 'utf-8') as first_file:\n",
    "    text = first_file.read()"
   ]
  },
  {
   "cell_type": "code",
   "execution_count": 6,
   "id": "5b43c7b5-99ff-47f3-829d-7113ba698a94",
   "metadata": {},
   "outputs": [],
   "source": [
    "text = text.replace(\"\\n\", \" \")"
   ]
  },
  {
   "cell_type": "code",
   "execution_count": 7,
   "id": "7837445b-2225-4bad-89a7-cea5b6ce6486",
   "metadata": {},
   "outputs": [],
   "source": [
    "with open(\"C:/Users/Taylor/OneDrive/Desktop/LLM docs/Wikipedia.txt\", \"r\", encoding = 'utf-8') as second_file:\n",
    "    wiki_text = second_file.read()"
   ]
  },
  {
   "cell_type": "code",
   "execution_count": 8,
   "id": "6d13e3fe-4614-4b23-8971-fa39a53d58ff",
   "metadata": {},
   "outputs": [],
   "source": [
    "wiki_text = wiki_text.replace(\"\\n\", \" \")"
   ]
  },
  {
   "cell_type": "code",
   "execution_count": 9,
   "id": "8e775721-2e20-48c5-8f3f-db560e6cda16",
   "metadata": {},
   "outputs": [],
   "source": [
    "#Remove all the citations\n",
    "\n",
    "wiki_text = re.sub(r\"\\[.*?\\]\", \"\", wiki_text)"
   ]
  },
  {
   "cell_type": "code",
   "execution_count": 10,
   "id": "3de21ca4-7fc4-47ec-bc15-5eb787c6cd68",
   "metadata": {},
   "outputs": [],
   "source": [
    "# Split text where I made variables in the text doc (first is summary)\n",
    "\n",
    "match = re.search(r\"wikipedia_summary(.*?)das_kapital\", wiki_text)\n",
    "wiki_summary = match.group(1).strip()\n",
    "wiki_summary = wiki_summary.replace('\"\"\"', \"\")"
   ]
  },
  {
   "cell_type": "code",
   "execution_count": 11,
   "id": "ff94cabb-2294-4e81-980a-58a86380d67d",
   "metadata": {},
   "outputs": [],
   "source": [
    "# For Das Kapital portion\n",
    "\n",
    "match = re.search(r\"das_kapital(.*?)influences\", wiki_text)\n",
    "wiki_kapital = match.group(1).strip()\n",
    "wiki_kapital = wiki_kapital.replace('\"\"\"', \"\")"
   ]
  },
  {
   "cell_type": "code",
   "execution_count": 12,
   "id": "e1b164ca-091b-480e-be51-6f7bfd043e60",
   "metadata": {},
   "outputs": [],
   "source": [
    "# Now for influences\n",
    "\n",
    "match = re.search(r\"influences(.*?)human_nature\", wiki_text)\n",
    "wiki_influences = match.group(1).strip()\n",
    "wiki_influences = wiki_influences.replace('\"\"\"', \"\")"
   ]
  },
  {
   "cell_type": "code",
   "execution_count": 13,
   "id": "81599c2b-18a0-44af-b44a-e07f703be7a9",
   "metadata": {},
   "outputs": [],
   "source": [
    "# View on human nature\n",
    "\n",
    "match = re.search(r\"human_nature(.*?)class_struggle\", wiki_text)\n",
    "wiki_human = match.group(1).strip()\n",
    "wiki_human = wiki_human.replace('\"\"\"', \"\")"
   ]
  },
  {
   "cell_type": "code",
   "execution_count": 14,
   "id": "8a19af5c-2a08-425b-8360-a963c4052f97",
   "metadata": {},
   "outputs": [],
   "source": [
    "# Class struggle\n",
    "\n",
    "match = re.search(r\"class_struggle(.*?)critiques\", wiki_text)\n",
    "wiki_class = match.group(1).strip()\n",
    "wiki_class = wiki_class.replace('\"\"\"', \"\")"
   ]
  },
  {
   "cell_type": "code",
   "execution_count": 15,
   "id": "8be072d6-bb0e-4d1c-9b7d-59595e28d6aa",
   "metadata": {},
   "outputs": [],
   "source": [
    "# Critiques\n",
    "\n",
    "match = re.search(r\"critiques(.*?)international_relations\", wiki_text)\n",
    "wiki_critique = match.group(1).strip()\n",
    "wiki_critique = wiki_critique.replace('\"\"\"', \"\")"
   ]
  },
  {
   "cell_type": "code",
   "execution_count": 16,
   "id": "e7af7869-eda5-4381-86d2-d350745ab16e",
   "metadata": {},
   "outputs": [],
   "source": [
    "# Views on international relations\n",
    "\n",
    "match = re.search(r\"international_relations(.*?)legacy\", wiki_text)\n",
    "wiki_international = match.group(1).strip()\n",
    "wiki_international = wiki_international.replace('\"\"\"', \"\")"
   ]
  },
  {
   "cell_type": "code",
   "execution_count": 17,
   "id": "cf7685e5-bf10-4fcc-9119-b43edf49d9e7",
   "metadata": {},
   "outputs": [],
   "source": [
    "# Legacy\n",
    "\n",
    "match = re.search(r\"legacy(.*?)quotes_and_origins\", wiki_text)\n",
    "wiki_legacy = match.group(1).strip()\n",
    "wiki_legacy = wiki_legacy.replace('\"\"\"', \"\")"
   ]
  },
  {
   "cell_type": "code",
   "execution_count": 18,
   "id": "0535702f-9c2a-4232-9bc1-b8dd0af54795",
   "metadata": {},
   "outputs": [],
   "source": [
    "# Quotes\n",
    "\n",
    "match = re.search(r\"quotes_and_origins(.*?)$\", wiki_text)\n",
    "wiki_quotes = match.group(1).strip()\n",
    "wiki_quotes = wiki_quotes.replace('\"\"\"', \"\")"
   ]
  },
  {
   "cell_type": "markdown",
   "id": "c6314885-3372-4f94-9183-cce6837f90ad",
   "metadata": {},
   "source": [
    "## Split into chunks"
   ]
  },
  {
   "cell_type": "code",
   "execution_count": 19,
   "id": "bc347c57-ade0-40d6-88d4-aaab2707e951",
   "metadata": {},
   "outputs": [],
   "source": [
    "def split_text(text, max_words = 700):\n",
    "    words = text.split()\n",
    "    chunks = [\" \".join(words[i:i + max_words]) for i in range(0, len(words), max_words)]\n",
    "    return chunks"
   ]
  },
  {
   "cell_type": "code",
   "execution_count": 20,
   "id": "07d91632-666c-4d07-b267-e6b3452f97c9",
   "metadata": {},
   "outputs": [],
   "source": [
    "# applying split_text function to all content\n",
    "\n",
    "overall_philosophy = split_text(text)\n",
    "marx_summary = split_text(wiki_summary)\n",
    "das_kapital_wiki = split_text(wiki_kapital)\n",
    "marx_influences = split_text(wiki_influences)\n",
    "marx_human_nature = split_text(wiki_human)\n",
    "marx_class_struggle = split_text(wiki_class)\n",
    "marx_critiques = split_text(wiki_critique)\n",
    "marx_international = split_text(wiki_international)\n",
    "marx_legacy = split_text(wiki_legacy)\n",
    "marx_quotes = split_text(wiki_quotes)"
   ]
  },
  {
   "cell_type": "markdown",
   "id": "91a302b1-4c3a-4c1e-84ba-6e7b37cc6f14",
   "metadata": {},
   "source": [
    "# Embed all content"
   ]
  },
  {
   "cell_type": "code",
   "execution_count": 21,
   "id": "d534d42a-5ccd-47f3-90c2-9a30b96481e9",
   "metadata": {},
   "outputs": [],
   "source": [
    "# Start by adding all lists to a dictionary\n",
    "\n",
    "content_groups = {\n",
    "    \"overall_philosophy\": overall_philosophy,\n",
    "    \"marx_summary\": marx_summary,\n",
    "    \"das_kapital_wiki\": das_kapital_wiki,\n",
    "    \"marx_influences\": marx_influences,\n",
    "    \"marx_human_nature\": marx_human_nature,\n",
    "    \"marx_class_struggle\": marx_class_struggle,\n",
    "    \"marx_critiques\": marx_critiques,\n",
    "    \"marx_international\": marx_international,\n",
    "    \"marx_legacy\": marx_legacy,\n",
    "    \"marx_quotes\": marx_quotes\n",
    "}"
   ]
  },
  {
   "cell_type": "code",
   "execution_count": 48,
   "id": "06159c82-b91f-4912-a7c8-a78a2bf97ed4",
   "metadata": {},
   "outputs": [
    {
     "name": "stderr",
     "output_type": "stream",
     "text": [
      "Add of existing embedding ID: overall_philosophy_chunk_0\n",
      "Insert of existing embedding ID: overall_philosophy_chunk_0\n",
      "Add of existing embedding ID: overall_philosophy_chunk_1\n",
      "Insert of existing embedding ID: overall_philosophy_chunk_1\n",
      "Add of existing embedding ID: overall_philosophy_chunk_2\n",
      "Insert of existing embedding ID: overall_philosophy_chunk_2\n",
      "Add of existing embedding ID: overall_philosophy_chunk_3\n",
      "Insert of existing embedding ID: overall_philosophy_chunk_3\n",
      "Add of existing embedding ID: marx_summary_chunk_0\n",
      "Insert of existing embedding ID: marx_summary_chunk_0\n",
      "Add of existing embedding ID: marx_summary_chunk_1\n",
      "Insert of existing embedding ID: marx_summary_chunk_1\n",
      "Add of existing embedding ID: marx_summary_chunk_2\n",
      "Insert of existing embedding ID: marx_summary_chunk_2\n",
      "Add of existing embedding ID: marx_summary_chunk_3\n",
      "Insert of existing embedding ID: marx_summary_chunk_3\n",
      "Add of existing embedding ID: das_kapital_wiki_chunk_0\n",
      "Insert of existing embedding ID: das_kapital_wiki_chunk_0\n",
      "Add of existing embedding ID: das_kapital_wiki_chunk_1\n",
      "Insert of existing embedding ID: das_kapital_wiki_chunk_1\n",
      "Add of existing embedding ID: marx_influences_chunk_0\n",
      "Insert of existing embedding ID: marx_influences_chunk_0\n",
      "Add of existing embedding ID: marx_influences_chunk_1\n",
      "Insert of existing embedding ID: marx_influences_chunk_1\n",
      "Add of existing embedding ID: marx_influences_chunk_2\n",
      "Insert of existing embedding ID: marx_influences_chunk_2\n",
      "Add of existing embedding ID: marx_influences_chunk_3\n",
      "Insert of existing embedding ID: marx_influences_chunk_3\n",
      "Add of existing embedding ID: marx_human_nature_chunk_0\n",
      "Insert of existing embedding ID: marx_human_nature_chunk_0\n",
      "Add of existing embedding ID: marx_class_struggle_chunk_0\n",
      "Insert of existing embedding ID: marx_class_struggle_chunk_0\n",
      "Add of existing embedding ID: marx_critiques_chunk_0\n",
      "Insert of existing embedding ID: marx_critiques_chunk_0\n",
      "Add of existing embedding ID: marx_critiques_chunk_1\n",
      "Insert of existing embedding ID: marx_critiques_chunk_1\n",
      "Add of existing embedding ID: marx_critiques_chunk_2\n",
      "Insert of existing embedding ID: marx_critiques_chunk_2\n",
      "Add of existing embedding ID: marx_critiques_chunk_3\n",
      "Insert of existing embedding ID: marx_critiques_chunk_3\n",
      "Add of existing embedding ID: marx_critiques_chunk_4\n",
      "Insert of existing embedding ID: marx_critiques_chunk_4\n",
      "Add of existing embedding ID: marx_critiques_chunk_5\n",
      "Insert of existing embedding ID: marx_critiques_chunk_5\n",
      "Add of existing embedding ID: marx_critiques_chunk_6\n",
      "Insert of existing embedding ID: marx_critiques_chunk_6\n",
      "Add of existing embedding ID: marx_critiques_chunk_7\n",
      "Insert of existing embedding ID: marx_critiques_chunk_7\n",
      "Add of existing embedding ID: marx_critiques_chunk_8\n",
      "Insert of existing embedding ID: marx_critiques_chunk_8\n",
      "Add of existing embedding ID: marx_international_chunk_0\n",
      "Insert of existing embedding ID: marx_international_chunk_0\n",
      "Add of existing embedding ID: marx_international_chunk_1\n",
      "Insert of existing embedding ID: marx_international_chunk_1\n",
      "Add of existing embedding ID: marx_legacy_chunk_0\n",
      "Insert of existing embedding ID: marx_legacy_chunk_0\n",
      "Add of existing embedding ID: marx_legacy_chunk_1\n",
      "Insert of existing embedding ID: marx_legacy_chunk_1\n",
      "Add of existing embedding ID: marx_legacy_chunk_2\n",
      "Insert of existing embedding ID: marx_legacy_chunk_2\n",
      "Add of existing embedding ID: marx_legacy_chunk_3\n",
      "Insert of existing embedding ID: marx_legacy_chunk_3\n",
      "Add of existing embedding ID: marx_legacy_chunk_4\n",
      "Insert of existing embedding ID: marx_legacy_chunk_4\n",
      "Add of existing embedding ID: marx_legacy_chunk_5\n",
      "Insert of existing embedding ID: marx_legacy_chunk_5\n",
      "Add of existing embedding ID: marx_quotes_chunk_0\n",
      "Insert of existing embedding ID: marx_quotes_chunk_0\n",
      "Add of existing embedding ID: marx_quotes_chunk_1\n",
      "Insert of existing embedding ID: marx_quotes_chunk_1\n",
      "Add of existing embedding ID: marx_quotes_chunk_2\n",
      "Insert of existing embedding ID: marx_quotes_chunk_2\n",
      "Add of existing embedding ID: marx_quotes_chunk_3\n",
      "Insert of existing embedding ID: marx_quotes_chunk_3\n"
     ]
    }
   ],
   "source": [
    "# Iterate through dictionary to add each chunk to the embedding function, then add the embedding to the collection\n",
    "\n",
    "for group_name, chunks in content_groups.items():\n",
    "    for i, chunk in enumerate(chunks):\n",
    "        embedding = genai.embed_content(model = \"models/text-embedding-004\", content = chunk)[\"embedding\"]\n",
    "\n",
    "        collection.upsert(\n",
    "            embeddings = [embedding],\n",
    "            documents = [chunk],\n",
    "            metadatas = [{\"group\": group_name, \"chunk_id\": i}],\n",
    "            ids = [f'{group_name}_chunk_{i}']\n",
    "    )"
   ]
  },
  {
   "cell_type": "code",
   "execution_count": 51,
   "id": "d356d7e2-6e63-4c13-9be1-36b80b4b86d7",
   "metadata": {},
   "outputs": [],
   "source": [
    "#Checking that embeddings are stored\n",
    "\n",
    "embeddings = collection.get(include = [\"embeddings\"])\n",
    "\n",
    "embeddings['embeddings'][:5]"
   ]
  },
  {
   "cell_type": "markdown",
   "id": "37e8c7a5-77e8-4ecf-b757-7d021e0110d8",
   "metadata": {},
   "source": [
    "# Simple ChatBot Logic to test out"
   ]
  },
  {
   "cell_type": "code",
   "execution_count": 65,
   "id": "e4a85956-b9ed-4d38-a9eb-3eb14a99c249",
   "metadata": {},
   "outputs": [],
   "source": [
    "def chatbot_response(user_input):\n",
    "    query_embedding = genai.embed_content(model = \"models/text-embedding-004\", content = user_input)[\"embedding\"]\n",
    "\n",
    "    results = collection.query(\n",
    "        query_embeddings = [query_embedding]\n",
    "    )\n",
    "\n",
    "    retrieved_text = results['documents']\n",
    "    model = genai.GenerativeModel('gemini-1.5-flash')\n",
    "    response = model.generate_content(f\"Based on the following, respond as Karl Marx would: {retrieved_text}\\n\\nUser: {user_input}\")\n",
    "\n",
    "    return response.text"
   ]
  },
  {
   "cell_type": "code",
   "execution_count": 66,
   "id": "ede8266d-c9b7-46b3-94e4-92be9a573f49",
   "metadata": {},
   "outputs": [
    {
     "data": {
      "text/plain": [
       "'Bah!  A \"quick summary\" of *my* history?  As if the dialectical unfolding of my life, interwoven with the material conditions of 19th-century Europe, could be reduced to a trivial anecdote!  \\n\\nNevertheless, for the bourgeoisie\\'s sake, here\\'s a skeletal outline:  Young Hegelian, studied philosophy and law, became a radical journalist, expelled from multiple countries for my revolutionary pronouncements against the inherent injustices of capitalism. Collaborated with Engels, formulated historical materialism, wrote *Das Kapital* (the definitive analysis of capitalist exploitation!),  actively involved in the International Workingmen\\'s Association.  Ultimately, I dedicated my life to exposing the contradictions of capitalism and laying the groundwork for the inevitable proletarian revolution.  The struggle continues!\\n'"
      ]
     },
     "execution_count": 66,
     "metadata": {},
     "output_type": "execute_result"
    }
   ],
   "source": [
    "user_input = \"give me a quick summary of karl marx's history\"\n",
    "\n",
    "chatbot_response(user_input)"
   ]
  },
  {
   "cell_type": "code",
   "execution_count": null,
   "id": "9b36dbb5-7a35-4f2e-b41e-2dc8777ae2f1",
   "metadata": {},
   "outputs": [],
   "source": []
  }
 ],
 "metadata": {
  "kernelspec": {
   "display_name": "Python 3 (ipykernel)",
   "language": "python",
   "name": "python3"
  },
  "language_info": {
   "codemirror_mode": {
    "name": "ipython",
    "version": 3
   },
   "file_extension": ".py",
   "mimetype": "text/x-python",
   "name": "python",
   "nbconvert_exporter": "python",
   "pygments_lexer": "ipython3",
   "version": "3.12.2"
  }
 },
 "nbformat": 4,
 "nbformat_minor": 5
}
